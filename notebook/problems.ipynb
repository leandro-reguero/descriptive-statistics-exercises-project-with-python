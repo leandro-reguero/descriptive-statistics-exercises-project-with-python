{
    "cells": [
        {
            "cell_type": "markdown",
            "id": "ac622319",
            "metadata": {},
            "source": [
                "# Descriptive statistics problems"
            ]
        },
        {
            "cell_type": "markdown",
            "id": "5e0ab0d5",
            "metadata": {},
            "source": [
                "### Exercise 1\n",
                "\n",
                "We will use NumPy to obtain information to describe statistically.\n",
                "\n",
                "- Generate an array of 100 elements following a normal distribution.\n",
                "- Generate an array of 100 elements following a chi-square distribution with 3 degrees of freedom.\n",
                "- Calculate the main metrics and statistical measures that best describe the two vectors."
            ]
        },
        {
            "cell_type": "code",
            "execution_count": 7,
            "id": "34720ab6",
            "metadata": {},
            "outputs": [
                {
                    "name": "stdout",
                    "output_type": "stream",
                    "text": [
                        "Esto es una distribución normal: [39.75683048  2.95643327 44.7950596  69.19097447 39.42554942]\n",
                        "Esto es el chi-cuadrado: [0.47009159 1.34499144 8.61505758 0.47177449 3.73080408]\n",
                        "count    100.000000\n",
                        "mean      48.381345\n",
                        "std       19.751671\n",
                        "min       -0.658747\n",
                        "25%       35.496662\n",
                        "50%       49.218751\n",
                        "75%       61.993969\n",
                        "max      100.356561\n",
                        "dtype: float64\n",
                        "count    100.000000\n",
                        "mean       3.278475\n",
                        "std        2.728377\n",
                        "min        0.182927\n",
                        "25%        1.311791\n",
                        "50%        2.544744\n",
                        "75%        4.531462\n",
                        "max       11.538238\n",
                        "dtype: float64\n"
                    ]
                }
            ],
            "source": [
                "# TODO\n",
                "import numpy as np\n",
                "import pandas as pd\n",
                "import matplotlib.pyplot as plt\n",
                "\n",
                "nordis = np.random.normal(50, 20, 100)\n",
                "print(f\"Esto es una distribución normal: {nordis[0:5]}\")\n",
                "\n",
                "chichi = np.random.chisquare(3, 100)\n",
                "print(f\"Esto es el chi-cuadrado: {chichi[0:5]}\")\n",
                "\n",
                "print(pd.Series(nordis).describe())\n",
                "print(pd.Series(chichi).describe())"
            ]
        },
        {
            "cell_type": "markdown",
            "id": "46c70c3d",
            "metadata": {},
            "source": [
                "### Exercise 2\n",
                "\n",
                "Write a Python program to calculate the standard deviation of the following data:\n",
                "\n",
                "```py\n",
                "data = [4, 2, 5, 8, 6]\n",
                "```"
            ]
        },
        {
            "cell_type": "code",
            "execution_count": 13,
            "id": "d590308e",
            "metadata": {},
            "outputs": [
                {
                    "name": "stdout",
                    "output_type": "stream",
                    "text": [
                        "2.23606797749979\n"
                    ]
                }
            ],
            "source": [
                "# TODO\n",
                "data = [4, 2, 5, 8, 6]\n",
                "\n",
                "def std_dev(something):\n",
                "    a_mean = sum(something) / (len(something))\n",
                "    difsum = 0\n",
                "    for i in something:\n",
                "        dif2 = (i - a_mean)**2\n",
                "        difsum += dif2\n",
                "\n",
                "    return np.sqrt(difsum/(len(something) - 1))\n",
                "\n",
                "print(std_dev(data))\n",
                "\n"
            ]
        }
    ],
    "metadata": {
        "interpreter": {
            "hash": "9248718ffe6ce6938b217e69dbcc175ea21f4c6b28a317e96c05334edae734bb"
        },
        "kernelspec": {
            "display_name": "Python 3.9.12 ('ML-BOOTCAMP')",
            "language": "python",
            "name": "python3"
        },
        "language_info": {
            "codemirror_mode": {
                "name": "ipython",
                "version": 3
            },
            "file_extension": ".py",
            "mimetype": "text/x-python",
            "name": "python",
            "nbconvert_exporter": "python",
            "pygments_lexer": "ipython3",
            "version": "3.11.1"
        }
    },
    "nbformat": 4,
    "nbformat_minor": 5
}
