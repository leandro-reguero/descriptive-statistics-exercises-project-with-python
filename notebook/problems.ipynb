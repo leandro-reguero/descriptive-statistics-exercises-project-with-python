{
    "cells": [
        {
            "cell_type": "markdown",
            "id": "ac622319",
            "metadata": {},
            "source": [
                "# Descriptive statistics problems"
            ]
        },
        {
            "cell_type": "markdown",
            "id": "5e0ab0d5",
            "metadata": {},
            "source": [
                "### Exercise 1\n",
                "\n",
                "We will use NumPy to obtain information to describe statistically.\n",
                "\n",
                "- Generate an array of 100 elements following a normal distribution.\n",
                "- Generate an array of 100 elements following a chi-square distribution with 3 degrees of freedom.\n",
                "- Calculate the main metrics and statistical measures that best describe the two vectors."
            ]
        },
        {
            "cell_type": "code",
            "execution_count": 17,
            "id": "34720ab6",
            "metadata": {},
            "outputs": [
                {
                    "name": "stdout",
                    "output_type": "stream",
                    "text": [
                        "Esto es una distribución normal: [69.22893052 67.46149298 81.88030932 70.21431118 40.7832696 ]\n",
                        "Esto es el chi-cuadrado: [2.51590912 2.39390765 7.80390787 0.6637622  1.39867366]\n",
                        "Media NormDist: 49.933567275157785\n",
                        "Media Chi-Square: 3.393003849600516\n",
                        "Varianza NormDist: 288.418846991488\n",
                        "Varianza Chi-Square: 8.847532455238724\n",
                        "count    100.000000\n",
                        "mean      49.933567\n",
                        "std       16.982899\n",
                        "min        9.390408\n",
                        "25%       37.980713\n",
                        "50%       49.202544\n",
                        "75%       62.451485\n",
                        "max       85.928867\n",
                        "dtype: float64\n",
                        "count    100.000000\n",
                        "mean       3.393004\n",
                        "std        2.974480\n",
                        "min        0.296216\n",
                        "25%        1.391454\n",
                        "50%        2.729522\n",
                        "75%        4.466486\n",
                        "max       19.801958\n",
                        "dtype: float64\n"
                    ]
                }
            ],
            "source": [
                "# TODO\n",
                "import numpy as np\n",
                "import pandas as pd\n",
                "import matplotlib.pyplot as plt\n",
                "\n",
                "nordis = np.random.normal(50, 20, 100)\n",
                "print(f\"Esto es una distribución normal: {nordis[0:5]}\")\n",
                "\n",
                "chichi = np.random.chisquare(3, 100)\n",
                "print(f\"Esto es el chi-cuadrado: {chichi[0:5]}\")\n",
                "\n",
                "def media(algo):\n",
                "    return sum(algo) / len(algo)\n",
                "\n",
                "print(f\"Media NormDist: {media(nordis)}\")\n",
                "print(f\"Media Chi-Square: {media(chichi)}\")\n",
                "\n",
                "def varianza(algo):\n",
                "    sumatorio = [(x - media(algo))**2 for x in algo]\n",
                "    return sum(sumatorio) / (len(algo) - 1)\n",
                "     \n",
                "\n",
                "\n",
                "print(f\"Varianza NormDist: {varianza(nordis)}\")\n",
                "print(f\"Varianza Chi-Square: {varianza(chichi)}\")\n",
                "\n",
                "\n",
                "print(pd.Series(nordis).describe())\n",
                "print(pd.Series(chichi).describe())"
            ]
        },
        {
            "cell_type": "markdown",
            "id": "46c70c3d",
            "metadata": {},
            "source": [
                "### Exercise 2\n",
                "\n",
                "Write a Python program to calculate the standard deviation of the following data:\n",
                "\n",
                "```py\n",
                "data = [4, 2, 5, 8, 6]\n",
                "```"
            ]
        },
        {
            "cell_type": "code",
            "execution_count": 13,
            "id": "d590308e",
            "metadata": {},
            "outputs": [
                {
                    "name": "stdout",
                    "output_type": "stream",
                    "text": [
                        "2.23606797749979\n"
                    ]
                }
            ],
            "source": [
                "# TODO\n",
                "data = [4, 2, 5, 8, 6]\n",
                "\n",
                "def std_dev(something):\n",
                "    a_mean = sum(something) / (len(something))\n",
                "    difsum = 0\n",
                "    for i in something:\n",
                "        dif2 = (i - a_mean)**2\n",
                "        difsum += dif2\n",
                "\n",
                "    return np.sqrt(difsum/(len(something) - 1))\n",
                "\n",
                "print(std_dev(data))"
            ]
        }
    ],
    "metadata": {
        "interpreter": {
            "hash": "9248718ffe6ce6938b217e69dbcc175ea21f4c6b28a317e96c05334edae734bb"
        },
        "kernelspec": {
            "display_name": "Python 3.9.12 ('ML-BOOTCAMP')",
            "language": "python",
            "name": "python3"
        },
        "language_info": {
            "codemirror_mode": {
                "name": "ipython",
                "version": 3
            },
            "file_extension": ".py",
            "mimetype": "text/x-python",
            "name": "python",
            "nbconvert_exporter": "python",
            "pygments_lexer": "ipython3",
            "version": "3.11.1"
        }
    },
    "nbformat": 4,
    "nbformat_minor": 5
}
